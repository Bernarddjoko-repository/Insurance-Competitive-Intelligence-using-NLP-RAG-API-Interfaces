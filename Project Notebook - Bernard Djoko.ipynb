{
 "cells": [
  {
   "cell_type": "markdown",
   "id": "5eaca034-485b-4fab-8e38-1f5edb7a9875",
   "metadata": {},
   "source": [
    "#### Let's load the Text Files"
   ]
  },
  {
   "cell_type": "code",
   "execution_count": 45,
   "id": "4de4f93b-6bb4-4a83-9a6b-631f70578034",
   "metadata": {},
   "outputs": [
    {
     "name": "stdout",
     "output_type": "stream",
     "text": [
      "Loaded files: ['AllState.txt', 'Chubb.txt', 'Progressive.txt', 'Travelers.txt']\n"
     ]
    }
   ],
   "source": [
    "import os\n",
    "\n",
    "# Set the folder path where your TXT files are stored\n",
    "folder_path = r\"C:\\Users\\User\\Documents\\10K_Filings\"\n",
    "\n",
    "# List all TXT files in the folder\n",
    "txt_files = [f for f in os.listdir(folder_path) if f.endswith('.txt')]\n",
    "\n",
    "# Read and store the content of each file\n",
    "documents = {}\n",
    "\n",
    "for file in txt_files:\n",
    "    file_path = os.path.join(folder_path, file)\n",
    "    with open(file_path, \"r\", encoding=\"utf-8\") as f:\n",
    "        documents[file] = f.read()\n",
    "\n",
    "# Print the names of the loaded files to confirm\n",
    "print(\"Loaded files:\", txt_files)\n"
   ]
  },
  {
   "cell_type": "code",
   "execution_count": 46,
   "id": "87a45b2c-6073-410e-8086-e95a0fc6915a",
   "metadata": {},
   "outputs": [
    {
     "name": "stdout",
     "output_type": "stream",
     "text": [
      "<SEC-DOCUMENT>0000899051-25-000015.txt : 20250224\n",
      "<SEC-HEADER>0000899051-25-000015.hdr.sgml : 20250224\n",
      "<ACCEPTANCE-DATETIME>20250224122327\n",
      "ACCESSION NUMBER:\t\t0000899051-25-000015\n",
      "CONFORMED SUBMISSION TYPE:\t10-K\n",
      "PUBLIC DOCUMENT COUNT:\t\t263\n",
      "CONFORMED PERIOD OF REPORT:\t20241231\n",
      "FILED AS OF DATE:\t\t20250224\n",
      "DATE AS OF CHANGE:\t\t20250224\n",
      "\n",
      "FILER:\n",
      "\n",
      "\tCOMPANY DATA:\t\n",
      "\t\tCOMPANY CONFORMED NAME:\t\t\tALLSTATE CORP\n",
      "\t\tCENTRAL INDEX KEY:\t\t\t0000899051\n",
      "\t\tSTANDARD INDUSTRIAL CLASSIFICATION:\tFIRE, MARINE & CASUALTY INSURANCE [6331]\n",
      "\t\tORGANIZATION NAME:           \t02 Finance\n",
      "\t\tIRS NUMBER:\t\t\t\t363871531\n",
      "\t\tSTATE OF INCORPORATION:\t\t\tDE\n",
      "\t\tFISCAL YEAR END:\t\t\t1231\n",
      "\n",
      "\tFILING VALUES:\n",
      "\t\tFORM TYPE:\t\t10-K\n",
      "\t\tSEC ACT:\t\t1934 Act\n",
      "\t\tSEC FILE NUMBER:\t001-11840\n",
      "\t\tFILM NUMBER:\t\t25655406\n",
      "\n",
      "\tBUSINESS ADDRESS:\t\n",
      "\t\tSTREET 1:\t\t3100 SANDERS ROAD\n",
      "\t\tCITY:\t\t\tNORTHBROOK\n",
      "\t\tSTATE:\t\t\tIL\n",
      "\t\tZIP:\t\t\t60062\n",
      "\t\tBUSINESS PHONE:\t\t8474025000\n",
      "\n",
      "\tMAIL ADDRESS:\t\n",
      "\t\tSTREET 1:\t\t3100 SANDERS ROAD\n",
      "\t\tCITY:\t\t\tNORTHBROOK\n",
      "\t\tSTATE:\t\t\tIL\n",
      "\t\tZIP:\t\t\t60062\n",
      "</SEC-HEADER>\n",
      "<DOCU\n"
     ]
    }
   ],
   "source": [
    "# Print the first 1000 characters of one document\n",
    "sample_file = txt_files[0]  # Pick the first file\n",
    "print(documents[sample_file][:1000])  # Print first 1000 characters\n"
   ]
  },
  {
   "cell_type": "markdown",
   "id": "e0517d3b-0d77-4fff-8dcd-f63c951137d5",
   "metadata": {},
   "source": [
    "#### Let's extract only the relevant sections from each document and ignore unnecessary metadata."
   ]
  },
  {
   "cell_type": "code",
   "execution_count": 47,
   "id": "500339d2-9c3f-4813-9f8c-9028e72fbe67",
   "metadata": {},
   "outputs": [
    {
     "name": "stdout",
     "output_type": "stream",
     "text": [
      "Business Overview Section of AllState.txt:\n",
      "\n",
      "</span></div></div><div style=\"margin-bottom:3pt;text-align:center\"><span style=\"color:#0033a0;font-family:'Allstate Sans',sans-serif;font-size:11pt;font-weight:700;line-height:120%\">Part&#160;I</span></div><div id=\"i6bfbd41c4e984319aea05b97650e64a4_13\"></div><div style=\"margin-bottom:6pt\"><span style=\"color:#0033a0;font-family:'Allstate Sans',sans-serif;font-size:11pt;font-weight:700;line-height:120%\">Item&#160;1.&#160;Business</span></div><div id=\"i6bfbd41c4e984319aea05b97650e64a4_16\"></div><d\n"
     ]
    }
   ],
   "source": [
    "import re\n",
    "\n",
    "def extract_relevant_sections(text):\n",
    "    \"\"\"\n",
    "    Extracts key sections from 10-K filings:\n",
    "    - Business Overview\n",
    "    - Risk Factors\n",
    "    - Management Discussion & Analysis (MD&A)\n",
    "    - Financial Statements\n",
    "    \"\"\"\n",
    "    sections = {}\n",
    "\n",
    "    # Define section titles we care about\n",
    "    section_patterns = {\n",
    "        \"Business Overview\": r\"(?i)Item\\s*1\\.\\s*Business(.*?)(?=Item\\s*\\d)\",\n",
    "        \"Risk Factors\": r\"(?i)Item\\s*1A\\.\\s*Risk Factors(.*?)(?=Item\\s*\\d)\",\n",
    "        \"MD&A\": r\"(?i)Item\\s*7\\.\\s*Management(?:’s|')? Discussion and Analysis(.*?)(?=Item\\s*\\d)\",\n",
    "        \"Financial Statements\": r\"(?i)Item\\s*8\\.\\s*Financial Statements(.*?)(?=Item\\s*\\d)\"\n",
    "    }\n",
    "\n",
    "    # Extract each section\n",
    "    for section, pattern in section_patterns.items():\n",
    "        match = re.search(pattern, text, re.DOTALL)\n",
    "        sections[section] = match.group(1).strip() if match else \"\"\n",
    "\n",
    "    return sections\n",
    "\n",
    "# Apply extraction to all documents\n",
    "extracted_documents = {fname: extract_relevant_sections(content) for fname, content in documents.items()}\n",
    "\n",
    "# Print a sample from the \"Business Overview\" section of one document\n",
    "sample_file = txt_files[0]\n",
    "print(f\"Business Overview Section of {sample_file}:\\n\")\n",
    "print(extracted_documents[sample_file][\"Business Overview\"][:500])  # Print first 500 characters\n"
   ]
  },
  {
   "cell_type": "code",
   "execution_count": 48,
   "id": "dd4aebff-3792-4fa4-9387-63435c459db8",
   "metadata": {},
   "outputs": [
    {
     "name": "stdout",
     "output_type": "stream",
     "text": [
      "Cleaned Business Overview Section of AllState.txt:\n",
      "\n",
      "Part I Item 1. Business The Allstate Corporation was incorporated under the laws of the State of Delaware on November 5, 1992, to serve as the holding company for Allstate Insurance Company. Its business is conducted principally through Allstate Insurance Company and other subsidiaries (collectively, including The Allstate Corporation, “Allstate”). The Allstate Corporation is one of the largest publicly held personal lines insurers in the United States. Allstate’s strategy is to increase market \n"
     ]
    }
   ],
   "source": [
    "import re\n",
    "from bs4 import BeautifulSoup  # Install this with `pip install beautifulsoup4`\n",
    "import html\n",
    "\n",
    "def clean_html(text):\n",
    "    \"\"\"\n",
    "    Cleans extracted sections by:\n",
    "    - Removing HTML tags\n",
    "    - Decoding HTML entities (e.g., &#160; → space)\n",
    "    - Removing excessive whitespace\n",
    "    \"\"\"\n",
    "    soup = BeautifulSoup(text, \"html.parser\")  # Remove HTML tags\n",
    "    text = soup.get_text(separator=\" \")  # Extract clean text\n",
    "    text = html.unescape(text)  # Decode HTML entities\n",
    "    text = re.sub(r\"\\s+\", \" \", text).strip()  # Remove excessive spaces\n",
    "    return text\n",
    "\n",
    "def extract_relevant_sections(text):\n",
    "    \"\"\"\n",
    "    Extracts and cleans key sections from 10-K filings:\n",
    "    - Business Overview\n",
    "    - Risk Factors\n",
    "    - Management Discussion & Analysis (MD&A)\n",
    "    - Financial Statements\n",
    "    \"\"\"\n",
    "    sections = {}\n",
    "\n",
    "    # Define section titles we care about\n",
    "    section_patterns = {\n",
    "        \"Business Overview\": r\"(?i)Item\\s*1\\.\\s*Business(.*?)(?=Item\\s*\\d)\",\n",
    "        \"Risk Factors\": r\"(?i)Item\\s*1A\\.\\s*Risk Factors(.*?)(?=Item\\s*\\d)\",\n",
    "        \"MD&A\": r\"(?i)Item\\s*7\\.\\s*Management(?:’s|')? Discussion and Analysis(.*?)(?=Item\\s*\\d)\",\n",
    "        \"Financial Statements\": r\"(?i)Item\\s*8\\.\\s*Financial Statements(.*?)(?=Item\\s*\\d)\"\n",
    "    }\n",
    "\n",
    "    # Extract and clean each section\n",
    "    for section, pattern in section_patterns.items():\n",
    "        match = re.search(pattern, text, re.DOTALL)\n",
    "        raw_text = match.group(1).strip() if match else \"\"\n",
    "        sections[section] = clean_html(raw_text)  # Apply HTML cleaning\n",
    "\n",
    "    return sections\n",
    "\n",
    "# Apply extraction & cleaning to all documents\n",
    "extracted_documents = {fname: extract_relevant_sections(content) for fname, content in documents.items()}\n",
    "\n",
    "# Print a sample from the \"Business Overview\" section of one document\n",
    "sample_file = txt_files[0]\n",
    "print(f\"Cleaned Business Overview Section of {sample_file}:\\n\")\n",
    "print(extracted_documents[sample_file][\"Business Overview\"][:500])  # Print first 500 characters\n"
   ]
  },
  {
   "cell_type": "markdown",
   "id": "c0a22360-6f17-4dda-a1f6-01d65a93d252",
   "metadata": {},
   "source": [
    "#### Let's implement Chunking for RAG"
   ]
  },
  {
   "cell_type": "code",
   "execution_count": 25,
   "id": "2107b1b5-1475-496b-9433-437d806f599d",
   "metadata": {},
   "outputs": [
    {
     "name": "stdout",
     "output_type": "stream",
     "text": [
      "First chunk from Business Overview of AllState.txt:\n",
      "\n",
      "Part I Item 1. Business The Allstate Corporation was incorporated under the laws of the State of Delaware on November 5, 1992, to serve as the holding company for Allstate Insurance Company. Its business is conducted principally through Allstate Insurance Company and other subsidiaries (collectively, including The Allstate Corporation, “Allstate”). The Allstate Corporation is one of the largest publicly held personal lines insurers in the United States. Allstate’s strategy is to increase market share in personal property-liability and broaden protection offerings. The Allstate brand is widely known through the “You’re In Good Hands With Allstate ® ” slogan. Allstate at a Glance 208 million policies in force (“PIF”) 55,000 employees 3 rd largest personal property and casualty insurer in the United States (1) $72.61 billion investment portfolio (1) Based on 2023 statutory direct premiums written according to A.M. Best We empower customers with protection to help them achieve their hopes and dreams. We provide affordable, simple and connected protection solutions. We create opportunity for our team, economic value for our shareholders and improve communities. What We Do Auto and homeowners insurance Roadside assistance Select commercial property and casualty coverages Automotive protection and insurance products Consumer product protection plans Identity protection Mobility data collection services and analytic solutions using automotive telematics information Employer voluntary benefits, group health insurance and individual health insurance Reportable segments Allstate Protection (1) Offers private passenger auto, homeowners, other personal lines and commercial insurance through exclusive agents, independent agents, contact centers and online under the Allstate, National General and Answer Financial brands. Run-off Property-Liability (1) Relates to property and casualty insurance policies written during the 1960s through the mid-1980s with exposure to asbestos, environmental and other claims in run-off. Protection Services Provides consumer product protection plans, device and mobile data collection services and analytic solutions using automotive telematics information, roadside assistance, protection and insurance products and identity protection and restoration through Allstate Protection Plans, Allstate Dealer Services, Allstate Roadside, Arity and Allstate Identity Protection. Allstate Health and Benefits Offers self-funded stop-loss and fully insured group health products to employers, and Medicare supplement, ancillary products and short-term medical insurance to individuals, sold through independent agents, owned agencies, benefits brokers and Allstate exclusive agents. Corporate and Other Includes net investment income, net gains (losses) on investments, other revenue, debt service, holding company activities and certain non-insurance operations. (1) Allstate Protection and Run-off Property-Liability segments comprise Property-Liability. On August 13, 2024, Allstate entered into an agreement with StanCorp Financial Group, Inc. to sell Allstate’s employer voluntary benefits business. The transaction is expected to close in the first half of 2025, subject to regulatory approvals and other customary closing conditions. On January 30, 2025, Allstate entered into an agreement with Nationwide Life Insurance Company to sell the group health business. The transaction is expected to close during 2025, subject to regulatory approvals and other customary closing conditions. The individual health business will either be retained or divested. In this Annual Report on Form 10-K, we occasionally refer to statutory financial information.\n"
     ]
    }
   ],
   "source": [
    "def chunk_text(text, chunk_size=500, overlap=100):\n",
    "    \"\"\"\n",
    "    Splits text into overlapping chunks.\n",
    "    - chunk_size: Max words per chunk\n",
    "    - overlap: Number of overlapping words between chunks\n",
    "    \"\"\"\n",
    "    words = text.split()\n",
    "    chunks = []\n",
    "    for i in range(0, len(words), chunk_size - overlap):\n",
    "        chunk = \" \".join(words[i:i + chunk_size])\n",
    "        chunks.append(chunk)\n",
    "    return chunks\n",
    "\n",
    "# Apply chunking to all extracted sections\n",
    "chunked_documents = {}\n",
    "\n",
    "for fname, sections in extracted_documents.items():\n",
    "    chunked_sections = {}\n",
    "    for section_name, content in sections.items():\n",
    "        chunked_sections[section_name] = chunk_text(content)\n",
    "    chunked_documents[fname] = chunked_sections\n",
    "\n",
    "# Print sample chunk from Business Overview\n",
    "sample_file = txt_files[0]\n",
    "print(f\"First chunk from Business Overview of {sample_file}:\\n\")\n",
    "print(chunked_documents[sample_file][\"Business Overview\"][0])  # Print first chunk\n"
   ]
  },
  {
   "cell_type": "markdown",
   "id": "e74d8e0c-8d1e-4e55-9a31-7c4b89cf1fa6",
   "metadata": {},
   "source": [
    "#### Let's enable retrieval-augmented generation (RAG)"
   ]
  },
  {
   "cell_type": "code",
   "execution_count": 49,
   "id": "e00d076d-73d6-4648-a3cd-3e4710ef6472",
   "metadata": {},
   "outputs": [
    {
     "name": "stdout",
     "output_type": "stream",
     "text": [
      "✅ FAISS index and metadata saved successfully using a local model!\n"
     ]
    }
   ],
   "source": [
    "from sentence_transformers import SentenceTransformer\n",
    "import numpy as np\n",
    "import faiss\n",
    "import pickle\n",
    "\n",
    "# Load a local embedding model\n",
    "embedding_model = SentenceTransformer(\"all-MiniLM-L6-v2\")  # Small, efficient model\n",
    "\n",
    "def get_embedding(text):\n",
    "    \"\"\"\n",
    "    Generates an embedding vector for a given text chunk using a local model.\n",
    "    \"\"\"\n",
    "    return embedding_model.encode(text, convert_to_numpy=True)\n",
    "\n",
    "# Prepare data for FAISS storage\n",
    "all_chunks = []\n",
    "chunk_metadata = []\n",
    "index = 0\n",
    "\n",
    "for fname, sections in chunked_documents.items():\n",
    "    for section_name, chunks in sections.items():\n",
    "        for chunk in chunks:\n",
    "            embedding = get_embedding(chunk)  # Convert chunk to embedding\n",
    "            all_chunks.append(embedding)  # Store embedding\n",
    "            chunk_metadata.append((fname, section_name, index, chunk))  # Store metadata\n",
    "            index += 1\n",
    "\n",
    "# Convert embeddings into a FAISS index\n",
    "embedding_dim = len(all_chunks[0])  # Check embedding size\n",
    "faiss_index = faiss.IndexFlatL2(embedding_dim)  # Create FAISS index\n",
    "faiss_index.add(np.array(all_chunks))  # Store embeddings\n",
    "\n",
    "# Save FAISS index and metadata for retrieval\n",
    "faiss.write_index(faiss_index, \"10k_faiss_index\")\n",
    "\n",
    "with open(\"chunk_metadata.pkl\", \"wb\") as f:\n",
    "    pickle.dump(chunk_metadata, f)\n",
    "\n",
    "print(\"✅ FAISS index and metadata saved successfully using a local model!\")\n"
   ]
  },
  {
   "cell_type": "code",
   "execution_count": 50,
   "id": "5adf0384-a8b2-4a40-a4e1-a0d28625657e",
   "metadata": {},
   "outputs": [
    {
     "name": "stdout",
     "output_type": "stream",
     "text": [
      "\n",
      "🔹 **AI Answer (Cohere):**\n",
      "\n",
      "Allstate's strategic initiatives revolve around increasing market share in personal property-liability protection and broadening its product offerings. The company aims to be recognized through its well-known slogan “You’re in Good Hands With Allstate” and provides affordable, simple protection solutions to consumers. These strategic goals include the particular to its product offerings, expanding into new states and offering more diverse protection types. \n",
      "\n",
      "Additionally, the company is focused on certain segments, like auto telematics information, roadside assistance, protection plans, identity protection, and mobile data collection services. They also aim to create economic value for shareholders and improve community impact.\n"
     ]
    }
   ],
   "source": [
    "import cohere\n",
    "\n",
    "# Set up Cohere API\n",
    "cohere_client = cohere.Client(\"Zw3pvdW9sLUocDRByhE05Y1tClc6W6KQLVrBztCx\")  # Replace with your key\n",
    "\n",
    "def ask_cohere(question, retrieved_chunks):\n",
    "    \"\"\"\n",
    "    Uses Cohere's API to generate an answer based on retrieved chunks.\n",
    "    \"\"\"\n",
    "    context = \"\\n\\n\".join([text for _, _, text in retrieved_chunks])\n",
    "    prompt = f\"Answer the following question based on the context:\\n\\nContext:\\n{context}\\n\\nQuestion: {question}\\nAnswer:\"\n",
    "\n",
    "    response = cohere_client.generate(\n",
    "        model=\"command-light\",  # ✅ Use 'command-light' instead of 'command-r'\n",
    "        prompt=prompt,\n",
    "        max_tokens=300,\n",
    "        temperature=0.3\n",
    "    )\n",
    "    return response.generations[0].text.strip()\n",
    "\n",
    "# Example Query\n",
    "query = \"What are Allstate's strategic initiatives?\"\n",
    "retrieved_chunks = retrieve_relevant_chunks(query)\n",
    "\n",
    "# Get AI-generated Answer from Cohere\n",
    "answer = ask_cohere(query, retrieved_chunks)\n",
    "\n",
    "# Print Results\n",
    "print(\"\\n🔹 **AI Answer (Cohere):**\\n\")\n",
    "print(answer)  # Print with better formatting\n",
    "\n"
   ]
  },
  {
   "cell_type": "code",
   "execution_count": 51,
   "id": "38d7feed-70e7-4a68-b073-a549008da4d3",
   "metadata": {},
   "outputs": [
    {
     "name": "stdout",
     "output_type": "stream",
     "text": [
      "\n",
      "🔹 **AI Answer (Cohere):**\n",
      "\n",
      "The causes of the largest amount of losses across all carriers are the result of inherent unpredictability and complexity in predicting and managing the factors that lead to property and casualty claims. Some of these specific carriers may most be impacted by severe weather and other catastrophe events, including hurricanes, tornadoes, windstorms, floods, earthquakes, hailstorms, severe winter weather, and fires. Additionally, climate change may also be exacerbating these events and their impacts. \n",
      "\n",
      "These events are inherently unpredictable and can change in frequency, severity, duration, geographic location, and scope. They can have a significant impact on the profitability of our property and other businesses more than they affect the profitability of our other businesses. The extent of insured losses from a catastrophe event is a function of our total insured exposure in the area affected by the event, the nature, severity, and duration of the event, and the extent of reinsurance that we have obtained with respect to such an event. \n",
      "\n",
      "It is important to note that the specific factors and trends that drive losses can change over time, and these changes may be influenced by or affected by both internal and external events. The impact of these factors can vary across different types of insurance carriers and regions due to the unique composition of risks in each carrier's or regional portfolio.\n"
     ]
    }
   ],
   "source": [
    "# Example Query\n",
    "query = \" What are the causes driving the largest amount of losses across all carriers? \"\n",
    "retrieved_chunks = retrieve_relevant_chunks(query)\n",
    "\n",
    "# Get AI-generated Answer from Cohere\n",
    "answer = ask_cohere(query, retrieved_chunks)\n",
    "\n",
    "print(\"\\n🔹 **AI Answer (Cohere):**\\n\")\n",
    "print(answer)  # Print with better formatting"
   ]
  },
  {
   "cell_type": "code",
   "execution_count": 52,
   "id": "b6c9ac4c-9ccf-4858-a92a-f571964f28e4",
   "metadata": {},
   "outputs": [
    {
     "name": "stdout",
     "output_type": "stream",
     "text": [
      "\n",
      "🔹 **AI Answer (Cohere):**\n",
      "\n",
      "Traveler's strategic initiatives focus heavily on expanding its insurance services, particularly in the auto industry. These initiatives aim to create innovative products and solutions, aiming to provide clients with superior protection benefits. In contrast, Chub's strategic initiatives are primarily centered around auto insurance and are aimed at delivering improved products and services through innovative means. \n",
      "\n",
      "The two companies have different approaches, with Traveler focusing on expanded coverage options and innovative products, while Chubb emphasizes the creation of unique solutions that cater to the needs of individuals and businesses. Both companies are working to achieve success in their respective market segments through their respective offerings.\n",
      "\n",
      "The strategic initiatives of both companies are designed to provide customers with excellent protection services and innovative solutions. They are unique selling points and comprehensive coverage options. These initiatives are also seek to deliver outstanding results through the development of cutting-edge insurance products and services. The companies have different target markets and clearly defined plans, with Traveler focusing on auto insurance and enhanced products, while Chubb concentrates on developing solutions for individuals and businesses.\n",
      "\n",
      "Overall, these strategic initiatives have the potential to deliver valuable products and services to customers, paving the way for innovation and competitive advantages within the insurance industry. The companies are also working towards creating the foundation for future growth and providing customers with reliable protection benefits.\n"
     ]
    }
   ],
   "source": [
    "# Example Query\n",
    "query = \"Compare Traveler’s Strategic initiatives with Chubb’s? \"\n",
    "retrieved_chunks = retrieve_relevant_chunks(query)\n",
    "\n",
    "# Get AI-generated Answer from Cohere\n",
    "answer = ask_cohere(query, retrieved_chunks)\n",
    "\n",
    "print(\"\\n🔹 **AI Answer (Cohere):**\\n\")\n",
    "print(answer)  # Print with better formatting"
   ]
  }
 ],
 "metadata": {
  "kernelspec": {
   "display_name": "Python 3 (ipykernel)",
   "language": "python",
   "name": "python3"
  },
  "language_info": {
   "codemirror_mode": {
    "name": "ipython",
    "version": 3
   },
   "file_extension": ".py",
   "mimetype": "text/x-python",
   "name": "python",
   "nbconvert_exporter": "python",
   "pygments_lexer": "ipython3",
   "version": "3.12.7"
  }
 },
 "nbformat": 4,
 "nbformat_minor": 5
}
